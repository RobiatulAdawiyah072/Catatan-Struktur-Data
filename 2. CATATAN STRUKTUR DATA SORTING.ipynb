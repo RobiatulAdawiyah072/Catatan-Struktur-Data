{
 "cells": [
  {
   "cell_type": "markdown",
   "metadata": {},
   "source": [
    "SORTING adalah suatu proses pengurutan angka dari yang terkecil hingga terbesar begitupun sebaliknya. ada 6 cara untuk melakukan proses SORTING yaitu, BUBBLE SORT, SELECTION SORT, INSERTION SORT, QUICK SORT, MERGE SORT, dan SHELL SORT.\n",
    "\n",
    "1. BUBBLE SORT\n",
    "   adalah suatu proses pengurutan yang sangat sederhana, suatu proses dengan cara membandingkan masing - masing nilai dalam suatu list secara berpasangan, pertukaran akan terjadi jika indeks[i] lebih besar daripada indeks[i+1]. jika indeks[i] lebih kecil dari indeks[i+1] maka tidak akan terjadi pertukaran, dan nilai yang menjadi patokannya akan bertambah 1. proses akan berlangsung secara terus menerus hingga list ke - n hinggal nilai yang ada pada list terurut.\n",
    "\n",
    "2. SELECTION SORT\n",
    "   adalah metode pencarian yang membandingkan elemen list yang pertama dengan elemen yang berikutnya sampai dengan elemen yang terakhir. Jika ditemukan elemen lain yang lebih kecil dari elemen yang sekarang maka ditandai posisinya dan kemudian akan saling bertukar tempat.\n",
    "    Metode ini memiliki konsep memilih data yang maksimum/minimum dari suatu kumpulan data hingga list ke-n, dan menempatkan data tersebut ke elemen paling akhir atau paling awal sesuai pengurutan yang diinginkan. Data maksimum/minimum yang diperoleh, diasingkan ke tempat lain, dan tidak diikutsertakan pada proses pencarian data maksimum/minimum berikutnya.\n",
    "    \n",
    "3. INSERTION SORT\n",
    "   adalah metode pengurutan data yang cara kerjanya menyisipkan suatu elemen list pada posisi yang sesuai. Posisi tersebut dicari dengan cara membandingkan suatu elemen dengan elemen-elemen sebelumnya. Pada algoritma ini, mula-mula elemen pertama dianggap telah berada pada posisi yang tepat. Selanjutnya, elemen kedua akan dibandingkan dengan elemen pertama. Jika elemen pertama lebih besar dari elemen kedua, maka elemen pertama akan digeser ke kanan menjadi elemen kedua dan elemen kedua sebelumnya akan disisiplan pada posisi pertama.\n",
    "\n",
    "    Setelah itu, elemen ketiga akan dibandingkan dengan elemen kedua dan pertama. Jika elemen kedua lebih besar dari elemen ketiga, maka elemen kedua akan digeser ke kanan. Selanjutnya, elemen ketiga akan dibandingkan lagi dengan elemen pertama. Jika elemen pertama lebih besar dari elemen ketiga, maka elemen pertama juga akan digeser ke kanan dan elemen ketiga akan disisipkan pada posisi pertama. Jika elemen pertama lebih kecil dari elemen ketiga, maka elemen ketiga akan disisipkan pada posisi kedua.\n",
    "    \n",
    "4. QUICK SORT\n",
    "    adalah proses pengurutan angka dengan sangat cepat.Pengurutan Quick sort ditentukan oleh pivot. Dan pivot tersebut bisa berada di depan , berada di belakang atau berada di tengah. Quick Sort biasanya menggunakan fungsi rekursif.\n",
    "    Quick Sort merupakan algoritma yang mengurutkan data dengan cara membagi. Pertama quick sort membagi list yang besar menjadi dua buah sub list atau dua kubu yang lebih kecil (kubu element kecil dan kubu element besar). Kemudian quick list akan menyortir sub list itu secara rekursif.\n",
    "    Adapun langkah-langkah pengerjaannya seperti berikut:\n",
    "    Pertama, mengambil sebuah elemen, yang disebut dengan pivot, pada sebuah daftar. Kedua, mengurutkan kembali sebuah list sehingga elemen dengan nilai yang kecil dari pivot berada sebelum pivot, sedangkan seluruh element yang memiliki nilai yang lebih besar dari pivot berada setelahnya (nilai yang sama dapat berada pada pivot setelahnya). Setelah pemisahan, pivot berada pada posisi akhirnya. Operasi ini disebut Partition. Yang terakhir sub list kemudian disortir secara recursif dari elemen yang lebih kecil dan sub list dari elemen yang lebih besar. \n",
    "    \n",
    "5. MERGE SORT\n",
    "    adalah pengurutan yang memang dirancang untuk mengurutkan data-data dalam jumlah yang sangat besar guna untuk mengefesiensi waktunya. cara kerja merge sort dilakukan dengan menggunakan cara divide and conquer yaitu dengan memecah kemudian menyelesaikan setiap bagian, kemudian menggabungkannya kembali. \n",
    "    Pertama data dipecah menjadi 2 bagian dimana bagian pertama merupakan setengah (jika data genap) atau setengah minus satu (jika data ganjil) dari seluruh data, kemudian dilakukan pemecahan kembali untuk masing-masing blok sampai hanya terdiri dari satu data tiap blok.\n",
    "    Setelah itu, data digabungkan kembali dengan membandingkan pada blok yang sama apakah data pertama lebih besar daripada data ke-tengah+1, jika iya, maka data ke-tengah+1 akan dipindah sebagai data pertama, kemudian data ke-pertama sampai ke-tengah digeser menjadi data kedua sampai ke-tengah+1, demikian seterusnya, selanjutnya data tersebut dibandingkan menjadi 2 kubu kembali dan dibandingkan antara kubu kanan dan kiri, nilai data terkecil akan akan masuk terlebih dahulu pada tempat list terurut dilanjutnya hingga yang terbesar. Sehingga metode merge sort merupakan metode yang membutuhkan fungsi rekursi untuk penyelesaiannya.\n",
    "    \n",
    "6. SHELL SORT\n",
    "    adalah suatu proses pengurutan yang menggunakan bentuk sorting yaitu selection sort yang dimodifikasi. cara pengurutannya adalah data list dibagi menjadi beberapa sub-list. setiap sub list diurutkan menggunakan selection sort yang fungsinya untuk menguragi banyaknya proses pergeseran setiap data didalam listnya.\n",
    "    Biasanya kita disuruh membuat sub-list terlebih dahulu. dan hasil setelah terjadi pergeseran pada setiap subnya akan disimpan pad tabel yang baru(K). setelah semua sub telah dicek dan terjadi pergeseran, maka langkah selanjutnya adalah membandingkan k yang baru dengan k yang lain untuk mengecek data yang akan diurutkan selanjutnya."
   ]
  },
  {
   "cell_type": "code",
   "execution_count": 2,
   "metadata": {},
   "outputs": [
    {
     "name": "stdout",
     "output_type": "stream",
     "text": [
      "[4, 7, 5, 8, 9, 3, 6, 1, 2, 15]\n",
      "[1, 7, 5, 8, 9, 4, 6, 3, 2, 15]\n",
      "[1, 2, 7, 8, 9, 5, 6, 4, 3, 15]\n",
      "[1, 2, 3, 8, 9, 7, 6, 5, 4, 15]\n",
      "[1, 2, 3, 4, 9, 8, 7, 6, 5, 15]\n",
      "[1, 2, 3, 4, 5, 9, 8, 7, 6, 15]\n",
      "[1, 2, 3, 4, 5, 6, 9, 8, 7, 15]\n",
      "[1, 2, 3, 4, 5, 6, 7, 9, 8, 15]\n",
      "[1, 2, 3, 4, 5, 6, 7, 8, 9, 15]\n",
      "[1, 2, 3, 4, 5, 6, 7, 8, 9, 15]\n"
     ]
    }
   ],
   "source": [
    "#CONTOH CODE BUBBLE SORT\n",
    "\n",
    "mylist = [4,7,5,8,9,3,6,1,2,15]\n",
    "iterasi = 0\n",
    "for i in range (0,len(mylist)-1,1) :\n",
    "    print(mylist)\n",
    "    for y in range (i+1,len(mylist)) :\n",
    "        if mylist[i] > mylist[y] :\n",
    "            a = mylist[i]\n",
    "            mylist[i] = mylist[y]\n",
    "            mylist[y] = a\n",
    "print (mylist)"
   ]
  },
  {
   "cell_type": "code",
   "execution_count": 3,
   "metadata": {},
   "outputs": [
    {
     "name": "stdout",
     "output_type": "stream",
     "text": [
      "[12, 23, 54, 45, 13, 11]\n",
      "[11, 23, 54, 45, 13, 12]\n",
      "[11, 12, 54, 45, 13, 23]\n",
      "[11, 12, 13, 45, 54, 23]\n",
      "[11, 12, 13, 23, 54, 45]\n",
      "[11, 12, 13, 23, 45, 54]\n"
     ]
    }
   ],
   "source": [
    "#CONTOH CODE SELECTION SORT\n",
    "\n",
    "mylist = [12,23,54,45,13,11]\n",
    "position = len(mylist)-1\n",
    "for x in range (0,position) :\n",
    "    min = x\n",
    "    print(mylist)\n",
    "    for y in range ((x+1),len(mylist)) :\n",
    "        if mylist[min] > mylist[y] :\n",
    "           min = y\n",
    "    mylist[x],mylist[min] = mylist[min],mylist[x]\n",
    "print(mylist)"
   ]
  },
  {
   "cell_type": "code",
   "execution_count": 4,
   "metadata": {},
   "outputs": [
    {
     "name": "stdout",
     "output_type": "stream",
     "text": [
      "[5, 2, 4, 6, 1, 3]\n",
      "[2, 5, 4, 6, 1, 3]\n",
      "[2, 4, 5, 6, 1, 3]\n",
      "[2, 4, 5, 6, 1, 3]\n",
      "[1, 2, 4, 5, 6, 3]\n",
      "[1, 2, 3, 4, 5, 6]\n"
     ]
    }
   ],
   "source": [
    "#CONTOH CODE INSERTION SORT\n",
    "\n",
    "a = [5,2,4,6,1,3]\n",
    "for i in range (1,len(a),1) :\n",
    "    print(a)\n",
    "    value = a[i]\n",
    "    hole = i\n",
    "    while hole > 0 and a[hole-1] > value :\n",
    "        a[hole] = a[hole-1]\n",
    "        hole = hole - 1\n",
    "    a[hole] = value\n",
    "print(a)"
   ]
  },
  {
   "cell_type": "code",
   "execution_count": 5,
   "metadata": {},
   "outputs": [
    {
     "name": "stdout",
     "output_type": "stream",
     "text": [
      "[12, 32, 34, 45, 65, 56, 76, 90, 78]\n",
      "[12, 32, 34, 45, 65, 56, 76, 90, 78]\n",
      "[12, 32, 34, 45, 65, 56, 76, 90, 78]\n",
      "[12, 32, 34, 45, 65, 56, 76, 90, 78]\n",
      "[12, 32, 34, 45, 65, 56, 76, 90, 78]\n",
      "[12, 32, 34, 45, 56, 65, 76, 90, 78]\n",
      "[12, 32, 34, 45, 56, 65, 76, 90, 78]\n",
      "[12, 32, 34, 45, 56, 65, 76, 90, 78]\n",
      "[12, 32, 34, 45, 56, 65, 76, 90, 78]\n",
      "[12, 32, 34, 45, 56, 65, 76, 78, 90]\n",
      "[12, 32, 34, 45, 56, 65, 76, 78, 90]\n",
      "[12, 32, 34, 45, 56, 65, 76, 78, 90]\n",
      "[12, 32, 34, 45, 56, 65, 76, 78, 90]\n"
     ]
    }
   ],
   "source": [
    "#CONTOH CODE QUICK SORT\n",
    "\n",
    "\n",
    "def quicsortawal(a) :\n",
    "    quicsort(a,0,len(a)-1)\n",
    "\n",
    "def quicsort(a,start,end) :\n",
    "    if start < end :\n",
    "        pindex = partition(a,start,end)\n",
    "        quicsort(a,start,pindex - 1)\n",
    "        print(a)\n",
    "        quicsort(a,pindex + 1,end)\n",
    "        print(a)\n",
    "\n",
    "def partition(a,start,end) :\n",
    "    pivot = a[end]\n",
    "    pindex = start\n",
    "    for i in range (start,end) :\n",
    "        if (a[i] <= pivot) :\n",
    "            a[i],a[pindex] = a[pindex],a[i]\n",
    "            pindex = pindex + 1\n",
    "    a[pindex],a[end] = a[end],a[pindex]\n",
    "    return pindex\n",
    "\n",
    "a = [34,56,78,90,32,12,65,45,76]\n",
    "quicsortawal(a)\n",
    "print(a)"
   ]
  },
  {
   "cell_type": "code",
   "execution_count": 6,
   "metadata": {},
   "outputs": [
    {
     "name": "stdout",
     "output_type": "stream",
     "text": [
      "[23, 23]\n",
      "[12, 12]\n",
      "[12, 23, 45, 12]\n",
      "[44, 44]\n",
      "[43, 43]\n",
      "[23, 65, 43]\n",
      "[23, 43, 44, 65, 43]\n",
      "[12, 23, 23, 43, 44, 45, 56, 65, 43]\n",
      "[12, 23, 23, 43, 44, 45, 56, 65, 90]\n"
     ]
    }
   ],
   "source": [
    "#CONTOH CODE MERGE SORT\n",
    "\n",
    "def mergesort(a):\n",
    "    n = len(a)\n",
    "    if(n<2) :\n",
    "        return\n",
    "    mid = len(a)//2\n",
    "    left = a[:mid]\n",
    "    right = a[mid:]\n",
    "    mergesort(left)\n",
    "    mergesort(right)\n",
    "    i = 0\n",
    "    j = 0\n",
    "    k = 0\n",
    "    while i < len(left) and j < len(right) :\n",
    "        if left[i] < right[j] :\n",
    "            a[k] = left[i]\n",
    "            i = i + 1\n",
    "        else :\n",
    "            a[k] = right[j]\n",
    "            j = j + 1\n",
    "        k = k + 1\n",
    "    print(a)\n",
    "    while i < len(left) :\n",
    "        a[k] = left[i]\n",
    "        i = i + 1\n",
    "        k = k + 1\n",
    "    while j < len(right) :\n",
    "        a[k] = right[j]\n",
    "        j = j + 1\n",
    "        k = k + 1\n",
    "a = [56,23,45,12,90,44,23,65,43]\n",
    "mergesort(a)\n",
    "print(a)"
   ]
  },
  {
   "cell_type": "code",
   "execution_count": 7,
   "metadata": {},
   "outputs": [
    {
     "name": "stdout",
     "output_type": "stream",
     "text": [
      "[35, 33, 42, 10, 14, 19, 27, 44]\n",
      "4\n",
      "[35, 33, 42, 10, 14, 19, 27, 44]\n",
      "4\n",
      "[35, 33, 42, 10, 14, 19, 27, 44]\n",
      "4\n",
      "[35, 33, 42, 10, 14, 19, 27, 44]\n",
      "4\n",
      "[35, 33, 42, 44, 14, 19, 27, 10]\n",
      "2\n",
      "[42, 33, 35, 44, 14, 19, 27, 10]\n",
      "[42, 33, 35, 44, 14, 19, 27, 10]\n",
      "[42, 33, 35, 44, 27, 19, 14, 10]\n",
      "2\n",
      "[42, 44, 35, 33, 27, 19, 14, 10]\n",
      "[42, 44, 35, 33, 27, 19, 14, 10]\n",
      "[42, 44, 35, 33, 27, 19, 14, 10]\n",
      "1\n",
      "[44, 42, 35, 33, 27, 19, 14, 10]\n",
      "[44, 42, 35, 33, 27, 19, 14, 10]\n",
      "[44, 42, 35, 33, 27, 19, 14, 10]\n",
      "[44, 42, 35, 33, 27, 19, 14, 10]\n",
      "[44, 42, 35, 33, 27, 19, 14, 10]\n",
      "[44, 42, 35, 33, 27, 19, 14, 10]\n",
      "[44, 42, 35, 33, 27, 19, 14, 10]\n"
     ]
    }
   ],
   "source": [
    "#CONTOH CODE SHELL SORT\n",
    "\n",
    "def shelsort(alist) :\n",
    "    sublistcount = len(alist)//2\n",
    "    while sublistcount > 0 :\n",
    "        for startposition in range (sublistcount) :\n",
    "            print(sublistcount)\n",
    "            gapinsertionsort(alist,startposition,sublistcount)\n",
    "        sublistcount = sublistcount//2\n",
    "def gapinsertionsort(alist,start,gap) :\n",
    "    for i in range (start+gap,len(alist),gap) :\n",
    "        value = alist[i]\n",
    "        position = i\n",
    "        while position >= gap and alist[position - gap] < value :\n",
    "            alist[position] = alist[position-gap]\n",
    "            position = position - gap\n",
    "        alist[position] = value\n",
    "        print(alist)\n",
    "        \n",
    "alist = [35,33,42,10,14,19,27,44]\n",
    "print(alist)\n",
    "shelsort(alist) "
   ]
  },
  {
   "cell_type": "code",
   "execution_count": null,
   "metadata": {},
   "outputs": [],
   "source": []
  }
 ],
 "metadata": {
  "kernelspec": {
   "display_name": "Python 3",
   "language": "python",
   "name": "python3"
  },
  "language_info": {
   "codemirror_mode": {
    "name": "ipython",
    "version": 3
   },
   "file_extension": ".py",
   "mimetype": "text/x-python",
   "name": "python",
   "nbconvert_exporter": "python",
   "pygments_lexer": "ipython3",
   "version": "3.7.1"
  }
 },
 "nbformat": 4,
 "nbformat_minor": 2
}
