{
 "cells": [
  {
   "cell_type": "markdown",
   "metadata": {},
   "source": [
    "MATERI SEARCHING\n",
    "\n",
    "\n",
    "\n",
    "SEARCHING adalah suatu proses pencarian data didalam list atau tabel. SEARCHING terbagi menjadi 2 cara yaitu LINEAR SEARCH dan BINERY SEARCH.\n",
    "\n",
    "1. LINEAR SEARCH \n",
    "    LINEAR SEARCH adalah suatu proses pencarian data dengan cara membandingkan elemen yang dicari dengan setiap elemen di dalam list atau tabel. Mulai dari elemen pertama (indeks = 0) sampai nilai yang dicari ditemukan atau sampai elemen terakhir (indeks = n - 1). \n",
    "\n",
    "\n",
    "2. BINERY SEARCH\n",
    "    BINERY SEARCH adalah suatu proses pencarian data dengan membagi 2 atau pencarian dimulai dari indeks list bagian tengah, lalu membandingkannya. Jika bertemu dengan angka yang lebih kecil dari pada yang dicari, maka langsung dibuang, begitu seterusnya hingga nilai yang dicari (==) ketemu. data list pada binary search sangatlah mengharuskan urut terlebih dahulu sebelum memulai proses pencarian.\n"
   ]
  },
  {
   "cell_type": "code",
   "execution_count": 1,
   "metadata": {},
   "outputs": [
    {
     "name": "stdout",
     "output_type": "stream",
     "text": [
      "did not find the search number\n",
      "did not find the search number\n",
      "did not find the search number\n",
      "did not find the search number\n",
      "found search number\n",
      "1\n"
     ]
    }
   ],
   "source": [
    "#CONTOH CODE LINEAR SEARCH\n",
    "\n",
    "search = 2\n",
    "mylist = [1,2,3,4,5,6]\n",
    "position = len(mylist)-1\n",
    "last = 0\n",
    "found = False\n",
    "while position >= last and not found :\n",
    "    if mylist[position] == search :\n",
    "        found = True\n",
    "    else :\n",
    "        position = position - 1\n",
    "    if found :\n",
    "        print(\"found search number\")\n",
    "        print(position)\n",
    "    else :\n",
    "        print(\"did not find the search number\")"
   ]
  },
  {
   "cell_type": "code",
   "execution_count": 2,
   "metadata": {},
   "outputs": [
    {
     "name": "stdout",
     "output_type": "stream",
     "text": [
      "did not find the search number\n"
     ]
    }
   ],
   "source": [
    "#CONTOH CODE BINERY SEARCH\n",
    "\n",
    "search = 2\n",
    "mylist = [1,2,3,4,5,6]\n",
    "last = len(mylist)-1\n",
    "first = 0\n",
    "mid = (first + last)//2\n",
    "found = False\n",
    "mylist.sort()\n",
    "while mylist[mid] <= last and not found :\n",
    "    mid = (first + last)//2\n",
    "    if mylist[mid] == search:\n",
    "        found = True\n",
    "    else :\n",
    "        if mylist[mid] > search :\n",
    "            first = mid + 1\n",
    "        else :\n",
    "            last = mid - 1\n",
    "if found :\n",
    "    print(\"found search number\")\n",
    "    print(mid)\n",
    "else :\n",
    "    print(\"did not find the search number\")\n",
    "        "
   ]
  }
 ],
 "metadata": {
  "kernelspec": {
   "display_name": "Python 3",
   "language": "python",
   "name": "python3"
  },
  "language_info": {
   "codemirror_mode": {
    "name": "ipython",
    "version": 3
   },
   "file_extension": ".py",
   "mimetype": "text/x-python",
   "name": "python",
   "nbconvert_exporter": "python",
   "pygments_lexer": "ipython3",
   "version": "3.7.1"
  }
 },
 "nbformat": 4,
 "nbformat_minor": 2
}
