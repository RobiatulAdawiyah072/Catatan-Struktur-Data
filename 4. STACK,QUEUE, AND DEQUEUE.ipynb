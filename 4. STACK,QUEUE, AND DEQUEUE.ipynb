{
 "cells": [
  {
   "cell_type": "markdown",
   "metadata": {},
   "source": [
    "    a. STACK\n",
    "\n",
    "    STACK adalah tumpukan atau sekumpulan data yang diletakkan diatas data yang lain. Stack bersifat LIFO (Last In First Out) artinya Benda yang terakhir masuk ke dalam stack akan menjadi yang pertama keluar dari stack.\n",
    "    contoh : misal terdapat item [piring,gelas,garpu,sendok] maka item yang akan keluar terlebih dahulu adalah sendok, karna sendok berada pada tumpukan paling atas.\n",
    "    Operasi-operasi yang biasanya tredapat pada Stack yaitu:\n",
    "    1. Push : digunakan untuk menambah item pada stack pada tumpukan paling atas\n",
    "    2. Pop : digunakan untuk mengambil item pada stack pada tumpukan paling atas\n",
    "    4. IsEmpty : fungsi yang digunakan untuk mengecek apakah stack sudah kosong\n",
    "    5. peek() :mengembalikan item teratas dari tumpukan tetapi tidak menghapusnya. Tidak perlu parameter. Tumpukan tidak diubah.\n",
    "    6. size() :mengembalikan jumlah item pada stack. Tidak perlu parameter dan mengembalikan integer."
   ]
  },
  {
   "cell_type": "code",
   "execution_count": 1,
   "metadata": {},
   "outputs": [
    {
     "name": "stdout",
     "output_type": "stream",
     "text": [
      "empty: False\n",
      "peek: true\n",
      "pop: true\n",
      "pop: hello\n"
     ]
    }
   ],
   "source": [
    "class Stack:\n",
    "    def __init__(self):\n",
    "        self.items = []\n",
    "    def isEmpty(self):\n",
    "         return self.items == []\n",
    "    def push(self, item):\n",
    "         self.items.append(item)\n",
    "    def pop(self):\n",
    "        return self.items.pop()\n",
    "    def peek(self):\n",
    "        return self.items[len(self.items)-1]\n",
    "    def size(self):\n",
    "        return len(self.items)\n",
    "s=Stack()\n",
    "s.push(\"hello\")\n",
    "s.push(\"true\")\n",
    "print(\"empty:\",s.isEmpty())\n",
    "print(\"peek:\",s.peek()) \n",
    "while not s.isEmpty():\n",
    "    print(\"pop:\",s.pop())"
   ]
  },
  {
   "cell_type": "markdown",
   "metadata": {},
   "source": [
    "    b. QUEUE\n",
    "        Queue adalah antrian sekumpulan data. Queue bersifat FIFO (first in first out) artinya item yang pertama kali masuk akan menjadi yang pertama keluar.\n",
    "        contoh : misal terdapat antrian obat [dina,lia,santi,fitri,puput] maka orang yang pertama kali masuk yaitu dina dan dina juga yang akan keluar atau pergi terlebih dahulu dari antrian tersebut.\n",
    "        Operasi - Operasi yang terdapat pada Queue :\n",
    "        1. EnQueue : berfungsi memasukkan data kedalam antrian.\n",
    "        2. DeqQueue : berfungsi mengeluarkan data terdepan dari antrian\n",
    "        3. IsEmpty : memeriksa apakah antrian kosong\n"
   ]
  },
  {
   "cell_type": "code",
   "execution_count": 2,
   "metadata": {},
   "outputs": [
    {
     "name": "stdout",
     "output_type": "stream",
     "text": [
      "3\n",
      "4\n",
      "dog\n",
      "True\n"
     ]
    }
   ],
   "source": [
    "class Queue:\n",
    "    def __init__(self):\n",
    "        self.items = []\n",
    "\n",
    "    def isEmpty(self):\n",
    "        return self.items == []\n",
    "\n",
    "    def enqueue(self, item):\n",
    "        self.items.insert(0,item)\n",
    "\n",
    "    def dequeue(self):\n",
    "        return self.items.pop() \n",
    "\n",
    "    def size(self):\n",
    "        return len(self.items)\n",
    "\n",
    "q=Queue()\n",
    "q.enqueue(4)\n",
    "q.enqueue('dog')\n",
    "q.enqueue(True)\n",
    "print(q.size())\n",
    "print(q.dequeue())\n",
    "print(q.dequeue())\n",
    "print(q.dequeue())"
   ]
  },
  {
   "cell_type": "markdown",
   "metadata": {},
   "source": [
    "    C. Dequeue\n",
    "\n",
    "        juga dikenal sebagai antrian berujung dua, adalah kumpulan barang yang dipesan mirip dengan antrian. Ini memiliki dua ujung, depan dan belakang, dan item tetap diposisikan dalam koleksi.\n",
    "        operasi yang dapat di lakukan dalam deque:\n",
    "        1. deque() membuat suatu deque baru yang kosong. Tidak perlu parameter dan mengembalikan suatu deque kosong.\n",
    "        2. addFront(item) menambahkan suatu item baru ke depan dari deque. Perlu item dan tidak mengembalikan apapun.\n",
    "        3. addRear(item) menambahkan suatu item baru ke ekor dari deque. Perlu item dam tidak mengembalikan sesuatu.\n",
    "        4. removeFront() menghapus item depan dari deque. Tidak perlu parameter dan mengembalikan item. Deque termodifikasi.\n",
    "        5. removeRear() menghapus item ujung (ekor) dari deque. Tidak perlu parameter dan mengembalikan item. Deque berubah.\n",
    "        6. isEmpty() menguji apakah deque dalam kondisi kosong. Tidak perlu parameter dan mengembalikan suatu nilai boolean.\n",
    "        7. size() mengembalikan jumlah item dalam deque. Tidak perlu parameter dan mengembalikan suatu integer."
   ]
  },
  {
   "cell_type": "code",
   "execution_count": 3,
   "metadata": {
    "scrolled": true
   },
   "outputs": [
    {
     "name": "stdout",
     "output_type": "stream",
     "text": [
      "3\n",
      "4\n",
      "dog\n",
      "True\n"
     ]
    }
   ],
   "source": [
    "class deQueue:\n",
    "    def __init__(self):\n",
    "        self.items = []\n",
    "\n",
    "    def isEmpty(self):\n",
    "        return self.items == []\n",
    "\n",
    "    def addrear(self, item):\n",
    "        self.items.insert(0,item)\n",
    "\n",
    "    def removefront(self):\n",
    "        return self.items.pop() \n",
    "    def addfront(self,item):\n",
    "        self.item.append()\n",
    "    def removerear(self):\n",
    "        return self.items.pop(0,item)\n",
    "    def size(self):\n",
    "        return len(self.items)\n",
    "\n",
    "q=deQueue()\n",
    "q.addrear(4)\n",
    "q.addrear('dog')\n",
    "q.addrear(True)\n",
    "print(q.size())\n",
    "print(q.removefront())\n",
    "print(q.removefront())\n",
    "print(q.removefront())"
   ]
  },
  {
   "cell_type": "code",
   "execution_count": null,
   "metadata": {},
   "outputs": [],
   "source": []
  }
 ],
 "metadata": {
  "kernelspec": {
   "display_name": "Python 3",
   "language": "python",
   "name": "python3"
  },
  "language_info": {
   "codemirror_mode": {
    "name": "ipython",
    "version": 3
   },
   "file_extension": ".py",
   "mimetype": "text/x-python",
   "name": "python",
   "nbconvert_exporter": "python",
   "pygments_lexer": "ipython3",
   "version": "3.7.1"
  }
 },
 "nbformat": 4,
 "nbformat_minor": 2
}
